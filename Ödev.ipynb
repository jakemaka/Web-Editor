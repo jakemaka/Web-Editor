{
 "cells": [
  {
   "cell_type": "markdown",
   "metadata": {},
   "source": [
    "# OpenCV Pythone"
   ]
  },
  {
   "cell_type": "markdown",
   "metadata": {},
   "source": [
    "İnstall Library"
   ]
  },
  {
   "cell_type": "code",
   "execution_count": 2,
   "metadata": {},
   "outputs": [],
   "source": [
    "#pip install opencv-python\n",
    "#--> pip install kütüphane yüklmemizi sağlar\n",
    "#--> burada opencv-python kütüphanesini yüklüyoruz\n",
    "#--> opencv-python kütüphanesi görüntü işleme, bilgisayar görüşü ve video analizi gibi işlemlerimizi yapmamızı sağlar\n",
    "#---------------------------------------------------------------------------------------------------------------------\n",
    "#---------------------------------------------------------------------------------------------------------------------\n",
    "\n",
    "\n",
    "#pip install --upgrade\n",
    "#--> --upgrade sistemimizdeki paketlerin güncellenmesini sağlar\n",
    "#---------------------------------------------------------------------------------------------------------------------\n",
    "#---------------------------------------------------------------------------------------------------------------------\n",
    "#---------------------------------------------------------------------------------------------------------------------\n",
    "#---------------------------------------------------------------------------------------------------------------------\n",
    "\n",
    "\n",
    "import cv2\n",
    "#--> opencv-python paketinin Python'a aktarılan adıdır. import diyerek opencv-python kütüphanesini cv2 yazarak kullanıyoruz\n",
    "#---------------------------------------------------------------------------------------------------------------------\n",
    "#---------------------------------------------------------------------------------------------------------------------\n",
    "#---------------------------------------------------------------------------------------------------------------------\n",
    "#---------------------------------------------------------------------------------------------------------------------"
   ]
  },
  {
   "cell_type": "markdown",
   "metadata": {},
   "source": [
    "Show Picture"
   ]
  },
  {
   "cell_type": "code",
   "execution_count": 3,
   "metadata": {},
   "outputs": [],
   "source": [
    "input = cv2.imread(\"unnamed.png\")\n",
    "#--> cv2 ile kütüphaneyi çağırıyoruz.\n",
    "#--> cv2 nin imread fonksiyonunu çağırarak unnamed.png isimli resim dosyasını okutuyoruz.\n",
    "#--> imread fonksiyonu resim dosyasını okuyup görüntü verilerini NumPy dizisine dönüştürür.\n",
    "#--> bu çıktıyıda input değişkenine atıyoruz.\n",
    "#---------------------------------------------------------------------------------------------------------------------\n",
    "\n",
    "\n",
    "cv2.imshow(\"Girl\",input)\n",
    "#--> cv2 nin imshow fonksiyonunu çağırıyoruz. bu fonksiyon okunan resim verilerini ekranda gösterir.\n",
    "#--> fonksiyon içerine 2 parametre veriyoruz. ilk \"Girl\" paremtresi başlık olarak veriyoruz. ikinci okunan veriyi ekranda göstermesi için atamış olduğumuz input parametresini veriyoruz\n",
    "#--> çalıştırdığımızda küçük pencerede atadığımız resmi gösteriyor.\n",
    "#---------------------------------------------------------------------------------------------------------------------\n",
    "#---------------------------------------------------------------------------------------------------------------------\n",
    "\n",
    "cv2.waitKey()\n",
    "#--> cv2 nin waitkey fonksiyonunu çağırıyoruz. bu fonksiyon herhangi bir tuşa basılmasını bekler.\n",
    "#--> Bu fonksiyon, bir tuşa basılana kadar programın yürütülmesini durdurur.\n",
    "#---------------------------------------------------------------------------------------------------------------------\n",
    "#---------------------------------------------------------------------------------------------------------------------\n",
    "#---------------------------------------------------------------------------------------------------------------------\n",
    "\n",
    "cv2.destroyAllWindows()\n",
    "#--> cv2 nin destroyAllWindows fonksiyonunu çağırıyoruz.bu fonksiyon opencv-python tarafından açılan pencereleri kapatır.\n",
    "#---------------------------------------------------------------------------------------------------------------------\n",
    "#---------------------------------------------------------------------------------------------------------------------\n",
    "#---------------------------------------------------------------------------------------------------------------------\n",
    "#---------------------------------------------------------------------------------------------------------------------\n"
   ]
  },
  {
   "cell_type": "code",
   "execution_count": null,
   "metadata": {},
   "outputs": [],
   "source": [
    "input\n",
    "#--> input değişkeninin yukarda cv2 nin imread fonksiyonuna atamıştık. bu fonksiyon bu değişkene dizi atadı.\n",
    "#--> burda değişkenı yazıp çalıştırdığımızda bize :\n",
    "#    array([[[193, 190, 148],\n",
    "#         [193, 190, 148],\n",
    "#         [193, 190, 148],\n",
    "#         ...,\n",
    "#         [190, 180, 134],\n",
    "#         [191, 180, 132],\n",
    "#         [194, 183, 134]],\n",
    "# \n",
    "#        [[193, 190, 148],\n",
    "#         [193, 190, 148],\n",
    "#         [193, 190, 148],\n",
    "#         ...,\n",
    "#         [191, 181, 135],\n",
    "#         [191, 180, 132],\n",
    "#         [193, 182, 133]],\n",
    "# \n",
    "#        [[193, 190, 148],\n",
    "#         [193, 190, 148],\n",
    "#         [193, 190, 148],\n",
    "#         ...,\n",
    "#         [191, 181, 135],\n",
    "#         [194, 183, 134],\n",
    "#         [192, 181, 133]],\n",
    "\n",
    "#--> çıktısını verecektır.\n"
   ]
  },
  {
   "cell_type": "code",
   "execution_count": 5,
   "metadata": {},
   "outputs": [
    {
     "data": {
      "text/plain": [
       "(512, 512, 3)"
      ]
     },
     "execution_count": 5,
     "metadata": {},
     "output_type": "execute_result"
    }
   ],
   "source": [
    "input.shape\n",
    "#--> shape input değişkenindeki resmin boyutlarını veya şeklini bir tuple olarak döndürür.\n",
    "#--> Bu tuple, resmin yüksekliğini, genişliğini ve kanal sayısını temsil eden değerleri sırayla içerir.\n",
    "#--> yüklenen resmin çıktısı (512, 512, 3) olacaktır.\n",
    "#--> değerler resmin (yükseklik, genişlik, kanallar) olacaktır.\n",
    "#---------------------------------------------------------------------------------------------------------------------"
   ]
  },
  {
   "cell_type": "code",
   "execution_count": 9,
   "metadata": {},
   "outputs": [],
   "source": [
    "input = cv2.imread(\"unnamed.png\")\n",
    "#--> cv2 ile kütüphaneyi çağırıyoruz.\n",
    "#--> cv2 nin imread fonksiyonunu çağırarak unnamed.png isimli resim dosyasını okutuyoruz.\n",
    "#--> imread fonksiyonu resim dosyasını okuyup görüntü verilerini NumPy dizisine dönüştürür.\n",
    "#--> bu çıktıyıda input değişkenine atıyoruz.\n",
    "#---------------------------------------------------------------------------------------------------------------------\n",
    "\n",
    "cv2.imshow(\"Girl\",input)\n",
    "#--> cv2 nin imshow fonksiyonunu çağırıyoruz. bu fonksiyon okunan resim verilerini ekranda gösterir.\n",
    "#--> fonksiyon içerine 2 parametre veriyoruz. ilk \"Girl\" paremtresi başlık olarak veriyoruz. ikinci okunan veriyi ekranda göstermesi için atamış olduğumuz input parametresini veriyoruz\n",
    "#--> çalıştırdığımızda küçük pencerede atadığımız resmi gösteriyor.\n",
    "#---------------------------------------------------------------------------------------------------------------------\n",
    "#---------------------------------------------------------------------------------------------------------------------\n",
    "\n",
    "cv2.waitKey()\n",
    "#--> cv2 nin waitkey fonksiyonunu çağırıyoruz. bu fonksiyon herhangi bir tuşa basılmasını bekler.\n",
    "#--> Bu fonksiyon, bir tuşa basılana kadar programın yürütülmesini durdurur.\n",
    "#---------------------------------------------------------------------------------------------------------------------\n",
    "#---------------------------------------------------------------------------------------------------------------------\n",
    "#---------------------------------------------------------------------------------------------------------------------\n",
    "\n",
    "gray_picture = cv2.cvtColor(input,cv2.COLOR_BGR2GRAY)\n",
    "#--> cv2 nin cvtcolor fonksiyonunu çağırıyoruz. bu fonksiyon yüklediğimiz resimin renklerini dönüşmesini sağlar.\n",
    "#--> Fonksiyon 2 parametre alır. ilk renklerini değiştirceğimiz resim. ikincisi hangi renklerin neye değişeceği.\n",
    "#--> cv2 nin COLOR_BGR2GRAY BGR renk uzayından gri tonlamaya yapılacağını belirtir.\n",
    "#--> en sonda dönüştürülmüş gri ton resim verileri gray_picture değişkenine atanır.\n",
    "#---------------------------------------------------------------------------------------------------------------------\n",
    "\n",
    "cv2.imshow(\"Girl\",gray_picture)\n",
    "#--> cv2 nin imshow fonksiyonunu çağırıyoruz. bu fonksiyon okunan resim verilerini ekranda gösterir.\n",
    "#--> fonksiyon içerine 2 parametre veriyoruz. ilk \"Girl\" paremtresi başlık olarak veriyoruz. ikinci okunan veriyi ekranda göstermesi için atamış olduğumuz gray_picture parametresini veriyoruz\n",
    "#--> çalıştırdığımızda küçük pencerede atadığımız resmi gösteriyor.\n",
    "#---------------------------------------------------------------------------------------------------------------------\n",
    "#---------------------------------------------------------------------------------------------------------------------\n",
    "\n",
    "cv2.waitKey()\n",
    "#--> cv2 nin waitkey fonksiyonunu çağırıyoruz. bu fonksiyon herhangi bir tuşa basılmasını bekler.\n",
    "#--> Bu fonksiyon, bir tuşa basılana kadar programın yürütülmesini durdurur.\n",
    "#---------------------------------------------------------------------------------------------------------------------\n",
    "#---------------------------------------------------------------------------------------------------------------------\n",
    "#---------------------------------------------------------------------------------------------------------------------\n",
    "\n",
    "cv2.destroyAllWindows()\n",
    "#--> cv2 nin destroyAllWindows fonksiyonunu çağırıyoruz.bu fonksiyon opencv-python tarafından açılan pencereleri kapatır.\n",
    "#---------------------------------------------------------------------------------------------------------------------\n",
    "#---------------------------------------------------------------------------------------------------------------------\n",
    "#---------------------------------------------------------------------------------------------------------------------\n",
    "#---------------------------------------------------------------------------------------------------------------------"
   ]
  },
  {
   "cell_type": "code",
   "execution_count": null,
   "metadata": {},
   "outputs": [],
   "source": [
    "input = cv2.imread(\"unnamed.png\")  # \"unnamed.png\" adlı görüntü dosyasını oku\n",
    "\n",
    "hsv_resim = cv2.cvtColor(input, cv2.COLOR_BGR2HSV)  # Görüntüyü BGR'den HSV'ye dönüştür\n",
    "\n",
    "cv2.imshow(\"HSV Tonlama\", hsv_resim[:, :, :])  # HSV tonlama görüntüsünü göster\n",
    "cv2.waitKey()  # Kullanıcı bir tuşa basana kadar bekle\n",
    "\n",
    "cv2.imshow(\"Hue Kanalı\", hsv_resim[:, :, 0])  # Hue (Ton) kanalını göster\n",
    "cv2.waitKey()  \n",
    "\n",
    "cv2.imshow(\"Saturation Kanalı\", hsv_resim[:, :, 1])  # Saturation (Doygunluk) kanalını göster\n",
    "cv2.waitKey() \n",
    "\n",
    "cv2.imshow(\"Value Kanalı\", hsv_resim[:, :, 2])  # Value (Değer) kanalını göster\n",
    "cv2.waitKey()  "
   ]
  },
  {
   "cell_type": "markdown",
   "metadata": {},
   "source": [
    "### Edge "
   ]
  },
  {
   "cell_type": "code",
   "execution_count": 11,
   "metadata": {},
   "outputs": [],
   "source": [
    "import cv2\n",
    "import numpy as np\n",
    "\n",
    "image = cv2.imread(\"unnamed.png\")  # \"unnamed.png\" adlı görüntü dosyasını oku\n",
    "height, width = image.shape[:2]  # Görüntünün yüksekliğini ve genişliğini al\n",
    "\n",
    "sobel_x = cv2.Sobel(image, cv2.CV_64F, 0, 1, ksize=5)  # Sobel operatörü ile x ekseninde kenarları tespit et\n",
    "sobel_y = cv2.Sobel(image, cv2.CV_64F, 1, 0, ksize=5)  # Sobel operatörü ile y ekseninde kenarları tespit et\n",
    "\n",
    "cv2.imshow(\"Rotated Image\", image)  # Görüntüyü göster\n",
    "\n",
    "cv2.imshow(\"Sobel X\", sobel_x)  # X eksenindeki kenarları göster\n",
    "\n",
    "cv2.imshow(\"Sobel Y\", sobel_y)  # Y eksenindeki kenarları göster\n",
    "\n",
    "sobel_OR = cv2.bitwise_or(sobel_x, sobel_y)  # X ve Y eksenindeki kenarların birleşimi\n",
    "cv2.imshow(\"Sobel OR\", sobel_OR)  # Birleşik kenarları göster\n",
    "\n",
    "laplacian = cv2.Laplacian(image, cv2.CV_64F)  # Laplacian kenar tespiti\n",
    "\n",
    "canny = cv2.Canny(image, 50, 120)  # Canny kenar tespiti\n",
    "cv2.imshow(\"Canny\", canny)  # Canny kenarlarını göster\n",
    "\n",
    "cv2.destroyAllWindows()  # Tüm pencereleri kapat"
   ]
  },
  {
   "cell_type": "markdown",
   "metadata": {},
   "source": [
    "### Real Time Picture"
   ]
  },
  {
   "cell_type": "code",
   "execution_count": 15,
   "metadata": {},
   "outputs": [],
   "source": [
    "import cv2\n",
    "import numpy as np\n",
    "\n",
    "def sketch(image):\n",
    "    img_gray = cv2.cvtColor(image, cv2.COLOR_BGR2GRAY)  # Görüntüyü gri tonlamaya dönüştür\n",
    "    img_blur = cv2.GaussianBlur(img_gray, (5, 5), 0)  # Görüntüyü Gauss bulanıklığı uygula\n",
    "    img_canny = cv2.Canny(img_blur, 10, 70)  # Kenarları tespit et\n",
    "    return img_canny\n",
    "\n",
    "cap = cv2.VideoCapture(0)  # Kamera görüntüsü al\n",
    "while True:\n",
    "    ret, frame = cap.read()  # Kameradan bir kare al\n",
    "    cv2.imshow(\"Real Time Picture\", sketch(frame))  # Gerçek zamanlı olarak kenarları tespit et ve göster\n",
    "    if cv2.waitKey(1) == 13:  # Enter tuşuna basılınca döngüyü sonlandır\n",
    "        break\n",
    "\n",
    "cap.release()  # Kamera yakalama işlemini serbest bırak\n",
    "cv2.destroyAllWindows()  # Tüm pencereleri kapat\n"
   ]
  }
 ],
 "metadata": {
  "kernelspec": {
   "display_name": "Python 3",
   "language": "python",
   "name": "python3"
  },
  "language_info": {
   "codemirror_mode": {
    "name": "ipython",
    "version": 3
   },
   "file_extension": ".py",
   "mimetype": "text/x-python",
   "name": "python",
   "nbconvert_exporter": "python",
   "pygments_lexer": "ipython3",
   "version": "3.10.11"
  }
 },
 "nbformat": 4,
 "nbformat_minor": 2
}
